{
  "nbformat": 4,
  "nbformat_minor": 0,
  "metadata": {
    "colab": {
      "name": "NLP-DA1-19BCE1494-RishikGanta.ipynb",
      "provenance": [],
      "collapsed_sections": [
        "dSwSsVlPukqe",
        "G90LLmtPwGvd",
        "q7taKA8Ewtcu",
        "2n8uPjt2z8tS",
        "UJcu3kca-oHI",
        "KsOHibh0-oHI",
        "LSdc7kE9-oHJ",
        "_B-NLB-j-oHO"
      ]
    },
    "kernelspec": {
      "name": "python3",
      "display_name": "Python 3"
    },
    "language_info": {
      "name": "python"
    }
  },
  "cells": [
    {
      "cell_type": "markdown",
      "source": [
        "<center><h1>CSE4022 Natural Language Processing</h1></center>\n",
        "<center><h2>Digital Assignment -1</h2></center>\n",
        "\n",
        "<p><h3>Rishik Ganta</h3>\n",
        " <h3>19BCE1494</h3></p>"
      ],
      "metadata": {
        "id": "4mhrdwLRdyYq"
      }
    },
    {
      "cell_type": "markdown",
      "source": [
        "##1.\tUtilize Python NLTK (Natural Language Tool Kit) Platform and do the following. Install relevant Packages and Libraries\n",
        "(7 Marks)\n",
        "*\tExplore Brown Corpus and find the size, tokens, categories,\n",
        "*\tFind the size of word tokens?\n",
        "*\tFind the size of word types?\n",
        "*\tFind the size of category “government”\n",
        "*\tList the most frequent tokens\n",
        "*\tCount the number of sentences\n",
        "\n",
        "##2.\tExplore the corpora available in NLTK(3 Marks)\n"
      ],
      "metadata": {
        "id": "mdBIhkA58LrY"
      }
    },
    {
      "cell_type": "code",
      "execution_count": 2,
      "metadata": {
        "id": "mAwTiG0zdhf3"
      },
      "outputs": [],
      "source": [
        "from nltk.corpus import brown"
      ]
    },
    {
      "cell_type": "code",
      "source": [
        "import nltk\n",
        "nltk.download('brown')"
      ],
      "metadata": {
        "colab": {
          "base_uri": "https://localhost:8080/"
        },
        "id": "fdnDbR68pg7v",
        "outputId": "b246864a-9c48-4f41-b150-d9cb4356ce52"
      },
      "execution_count": 3,
      "outputs": [
        {
          "output_type": "stream",
          "name": "stderr",
          "text": [
            "[nltk_data] Downloading package brown to /root/nltk_data...\n",
            "[nltk_data]   Unzipping corpora/brown.zip.\n"
          ]
        },
        {
          "output_type": "execute_result",
          "data": {
            "text/plain": [
              "True"
            ]
          },
          "metadata": {},
          "execution_count": 3
        }
      ]
    },
    {
      "cell_type": "markdown",
      "source": [
        "# 1. Utilize Python NLTK (Natural Language Tool Kit) Platform and do the following. Install relevant Packages and Libraries"
      ],
      "metadata": {
        "id": "9SjzlEbm0jVs"
      }
    },
    {
      "cell_type": "markdown",
      "source": [
        "### Explore Brown Corpus and find the size, tokens, categories,"
      ],
      "metadata": {
        "id": "zQas3aUmqULz"
      }
    },
    {
      "cell_type": "markdown",
      "source": [
        "#### Tokens"
      ],
      "metadata": {
        "id": "QgFD2N0bsLhY"
      }
    },
    {
      "cell_type": "code",
      "source": [
        "brown.words()"
      ],
      "metadata": {
        "colab": {
          "base_uri": "https://localhost:8080/"
        },
        "id": "1FfRaTLep9eE",
        "outputId": "352197ea-5928-4886-d7b8-64df3a75b832"
      },
      "execution_count": 4,
      "outputs": [
        {
          "output_type": "execute_result",
          "data": {
            "text/plain": [
              "['The', 'Fulton', 'County', 'Grand', 'Jury', 'said', ...]"
            ]
          },
          "metadata": {},
          "execution_count": 4
        }
      ]
    },
    {
      "cell_type": "markdown",
      "source": [
        "#### Size"
      ],
      "metadata": {
        "id": "rVBPDIu9tJot"
      }
    },
    {
      "cell_type": "code",
      "source": [
        "print(\"Size of brown corpus:\",len(brown.words()))"
      ],
      "metadata": {
        "colab": {
          "base_uri": "https://localhost:8080/"
        },
        "id": "vMhKYp4HsUpK",
        "outputId": "f877cc12-1f41-4ef7-cc00-0e02db6445c1"
      },
      "execution_count": 5,
      "outputs": [
        {
          "output_type": "stream",
          "name": "stdout",
          "text": [
            "Size of brown corpus: 1161192\n"
          ]
        }
      ]
    },
    {
      "cell_type": "markdown",
      "source": [
        "#### Categories"
      ],
      "metadata": {
        "id": "0wqmx3t7tTvY"
      }
    },
    {
      "cell_type": "code",
      "source": [
        "brown.categories()"
      ],
      "metadata": {
        "colab": {
          "base_uri": "https://localhost:8080/"
        },
        "id": "2N4cGfErtRDR",
        "outputId": "e9d5c18a-5e08-4fb0-aacc-02bd3b6cdc3c"
      },
      "execution_count": 6,
      "outputs": [
        {
          "output_type": "execute_result",
          "data": {
            "text/plain": [
              "['adventure',\n",
              " 'belles_lettres',\n",
              " 'editorial',\n",
              " 'fiction',\n",
              " 'government',\n",
              " 'hobbies',\n",
              " 'humor',\n",
              " 'learned',\n",
              " 'lore',\n",
              " 'mystery',\n",
              " 'news',\n",
              " 'religion',\n",
              " 'reviews',\n",
              " 'romance',\n",
              " 'science_fiction']"
            ]
          },
          "metadata": {},
          "execution_count": 6
        }
      ]
    },
    {
      "cell_type": "code",
      "source": [
        "print(\"Categories:\",len(brown.categories()))"
      ],
      "metadata": {
        "colab": {
          "base_uri": "https://localhost:8080/"
        },
        "id": "y3XFqEP_tYT2",
        "outputId": "f44a4621-a813-4e24-e696-5cc7506c846c"
      },
      "execution_count": 7,
      "outputs": [
        {
          "output_type": "stream",
          "name": "stdout",
          "text": [
            "Categories: 15\n"
          ]
        }
      ]
    },
    {
      "cell_type": "markdown",
      "source": [
        "### Find the size of word tokens?"
      ],
      "metadata": {
        "id": "H_MdRgBVtpyW"
      }
    },
    {
      "cell_type": "code",
      "source": [
        "print(\"Size of word tokens:\",len(brown.words()))"
      ],
      "metadata": {
        "colab": {
          "base_uri": "https://localhost:8080/"
        },
        "id": "SGtyW53vvvp0",
        "outputId": "6ea64879-f806-4d33-8339-c1ecae9d878c"
      },
      "execution_count": 8,
      "outputs": [
        {
          "output_type": "stream",
          "name": "stdout",
          "text": [
            "Size of word tokens: 1161192\n"
          ]
        }
      ]
    },
    {
      "cell_type": "code",
      "source": [
        "size_of_each_tokens=[]\n",
        "for i in brown.words():\n",
        "  size_of_each_tokens.append([i,len(i)])\n",
        "size_of_each_tokens[:200] # printing forst 200 tokens and there sizes"
      ],
      "metadata": {
        "colab": {
          "base_uri": "https://localhost:8080/"
        },
        "id": "G3BVOOLKtjCG",
        "outputId": "d2e9cf9f-b7de-45ba-8adc-e1e888b8b6a6"
      },
      "execution_count": 9,
      "outputs": [
        {
          "output_type": "execute_result",
          "data": {
            "text/plain": [
              "[['The', 3],\n",
              " ['Fulton', 6],\n",
              " ['County', 6],\n",
              " ['Grand', 5],\n",
              " ['Jury', 4],\n",
              " ['said', 4],\n",
              " ['Friday', 6],\n",
              " ['an', 2],\n",
              " ['investigation', 13],\n",
              " ['of', 2],\n",
              " [\"Atlanta's\", 9],\n",
              " ['recent', 6],\n",
              " ['primary', 7],\n",
              " ['election', 8],\n",
              " ['produced', 8],\n",
              " ['``', 2],\n",
              " ['no', 2],\n",
              " ['evidence', 8],\n",
              " [\"''\", 2],\n",
              " ['that', 4],\n",
              " ['any', 3],\n",
              " ['irregularities', 14],\n",
              " ['took', 4],\n",
              " ['place', 5],\n",
              " ['.', 1],\n",
              " ['The', 3],\n",
              " ['jury', 4],\n",
              " ['further', 7],\n",
              " ['said', 4],\n",
              " ['in', 2],\n",
              " ['term-end', 8],\n",
              " ['presentments', 12],\n",
              " ['that', 4],\n",
              " ['the', 3],\n",
              " ['City', 4],\n",
              " ['Executive', 9],\n",
              " ['Committee', 9],\n",
              " [',', 1],\n",
              " ['which', 5],\n",
              " ['had', 3],\n",
              " ['over-all', 8],\n",
              " ['charge', 6],\n",
              " ['of', 2],\n",
              " ['the', 3],\n",
              " ['election', 8],\n",
              " [',', 1],\n",
              " ['``', 2],\n",
              " ['deserves', 8],\n",
              " ['the', 3],\n",
              " ['praise', 6],\n",
              " ['and', 3],\n",
              " ['thanks', 6],\n",
              " ['of', 2],\n",
              " ['the', 3],\n",
              " ['City', 4],\n",
              " ['of', 2],\n",
              " ['Atlanta', 7],\n",
              " [\"''\", 2],\n",
              " ['for', 3],\n",
              " ['the', 3],\n",
              " ['manner', 6],\n",
              " ['in', 2],\n",
              " ['which', 5],\n",
              " ['the', 3],\n",
              " ['election', 8],\n",
              " ['was', 3],\n",
              " ['conducted', 9],\n",
              " ['.', 1],\n",
              " ['The', 3],\n",
              " ['September-October', 17],\n",
              " ['term', 4],\n",
              " ['jury', 4],\n",
              " ['had', 3],\n",
              " ['been', 4],\n",
              " ['charged', 7],\n",
              " ['by', 2],\n",
              " ['Fulton', 6],\n",
              " ['Superior', 8],\n",
              " ['Court', 5],\n",
              " ['Judge', 5],\n",
              " ['Durwood', 7],\n",
              " ['Pye', 3],\n",
              " ['to', 2],\n",
              " ['investigate', 11],\n",
              " ['reports', 7],\n",
              " ['of', 2],\n",
              " ['possible', 8],\n",
              " ['``', 2],\n",
              " ['irregularities', 14],\n",
              " [\"''\", 2],\n",
              " ['in', 2],\n",
              " ['the', 3],\n",
              " ['hard-fought', 11],\n",
              " ['primary', 7],\n",
              " ['which', 5],\n",
              " ['was', 3],\n",
              " ['won', 3],\n",
              " ['by', 2],\n",
              " ['Mayor-nominate', 14],\n",
              " ['Ivan', 4],\n",
              " ['Allen', 5],\n",
              " ['Jr.', 3],\n",
              " ['.', 1],\n",
              " ['``', 2],\n",
              " ['Only', 4],\n",
              " ['a', 1],\n",
              " ['relative', 8],\n",
              " ['handful', 7],\n",
              " ['of', 2],\n",
              " ['such', 4],\n",
              " ['reports', 7],\n",
              " ['was', 3],\n",
              " ['received', 8],\n",
              " [\"''\", 2],\n",
              " [',', 1],\n",
              " ['the', 3],\n",
              " ['jury', 4],\n",
              " ['said', 4],\n",
              " [',', 1],\n",
              " ['``', 2],\n",
              " ['considering', 11],\n",
              " ['the', 3],\n",
              " ['widespread', 10],\n",
              " ['interest', 8],\n",
              " ['in', 2],\n",
              " ['the', 3],\n",
              " ['election', 8],\n",
              " [',', 1],\n",
              " ['the', 3],\n",
              " ['number', 6],\n",
              " ['of', 2],\n",
              " ['voters', 6],\n",
              " ['and', 3],\n",
              " ['the', 3],\n",
              " ['size', 4],\n",
              " ['of', 2],\n",
              " ['this', 4],\n",
              " ['city', 4],\n",
              " [\"''\", 2],\n",
              " ['.', 1],\n",
              " ['The', 3],\n",
              " ['jury', 4],\n",
              " ['said', 4],\n",
              " ['it', 2],\n",
              " ['did', 3],\n",
              " ['find', 4],\n",
              " ['that', 4],\n",
              " ['many', 4],\n",
              " ['of', 2],\n",
              " [\"Georgia's\", 9],\n",
              " ['registration', 12],\n",
              " ['and', 3],\n",
              " ['election', 8],\n",
              " ['laws', 4],\n",
              " ['``', 2],\n",
              " ['are', 3],\n",
              " ['outmoded', 8],\n",
              " ['or', 2],\n",
              " ['inadequate', 10],\n",
              " ['and', 3],\n",
              " ['often', 5],\n",
              " ['ambiguous', 9],\n",
              " [\"''\", 2],\n",
              " ['.', 1],\n",
              " ['It', 2],\n",
              " ['recommended', 11],\n",
              " ['that', 4],\n",
              " ['Fulton', 6],\n",
              " ['legislators', 11],\n",
              " ['act', 3],\n",
              " ['``', 2],\n",
              " ['to', 2],\n",
              " ['have', 4],\n",
              " ['these', 5],\n",
              " ['laws', 4],\n",
              " ['studied', 7],\n",
              " ['and', 3],\n",
              " ['revised', 7],\n",
              " ['to', 2],\n",
              " ['the', 3],\n",
              " ['end', 3],\n",
              " ['of', 2],\n",
              " ['modernizing', 11],\n",
              " ['and', 3],\n",
              " ['improving', 9],\n",
              " ['them', 4],\n",
              " [\"''\", 2],\n",
              " ['.', 1],\n",
              " ['The', 3],\n",
              " ['grand', 5],\n",
              " ['jury', 4],\n",
              " ['commented', 9],\n",
              " ['on', 2],\n",
              " ['a', 1],\n",
              " ['number', 6],\n",
              " ['of', 2],\n",
              " ['other', 5],\n",
              " ['topics', 6],\n",
              " [',', 1],\n",
              " ['among', 5]]"
            ]
          },
          "metadata": {},
          "execution_count": 9
        }
      ]
    },
    {
      "cell_type": "markdown",
      "source": [
        "### Find the size of word types?"
      ],
      "metadata": {
        "id": "dSwSsVlPukqe"
      }
    },
    {
      "cell_type": "code",
      "source": [
        "print(\"Size of word types:\",len(set(brown.words())))"
      ],
      "metadata": {
        "colab": {
          "base_uri": "https://localhost:8080/"
        },
        "id": "ivX2qsfmuFCm",
        "outputId": "f512bb3e-5648-4b3d-ad69-13c635b0026a"
      },
      "execution_count": 10,
      "outputs": [
        {
          "output_type": "stream",
          "name": "stdout",
          "text": [
            "Size of word types: 56057\n"
          ]
        }
      ]
    },
    {
      "cell_type": "markdown",
      "source": [
        "### Find the size of category “government”"
      ],
      "metadata": {
        "id": "G90LLmtPwGvd"
      }
    },
    {
      "cell_type": "code",
      "source": [
        "gov_words=brown.words(categories='government')\n",
        "gov_words"
      ],
      "metadata": {
        "colab": {
          "base_uri": "https://localhost:8080/"
        },
        "id": "eozAZ3UywIgp",
        "outputId": "32bcdbeb-ff4d-4249-fb80-bf36b915fcf0"
      },
      "execution_count": 11,
      "outputs": [
        {
          "output_type": "execute_result",
          "data": {
            "text/plain": [
              "['The', 'Office', 'of', 'Business', 'Economics', '(', ...]"
            ]
          },
          "metadata": {},
          "execution_count": 11
        }
      ]
    },
    {
      "cell_type": "code",
      "source": [
        "print(\"Size of word types:\",len(gov_words))"
      ],
      "metadata": {
        "colab": {
          "base_uri": "https://localhost:8080/"
        },
        "id": "NL9x_Kq8wc1l",
        "outputId": "5523745f-0165-4d63-ca99-ec519251d956"
      },
      "execution_count": 12,
      "outputs": [
        {
          "output_type": "stream",
          "name": "stdout",
          "text": [
            "Size of word types: 70117\n"
          ]
        }
      ]
    },
    {
      "cell_type": "markdown",
      "source": [
        "### List the most frequent tokens"
      ],
      "metadata": {
        "id": "q7taKA8Ewtcu"
      }
    },
    {
      "cell_type": "code",
      "source": [
        "words=brown.words()\n",
        "words_count=nltk.FreqDist(w.lower() for w in words)\n",
        "frequent_words_count=dict(sorted(words_count.items(), key=lambda item: item[1],reverse=True))"
      ],
      "metadata": {
        "id": "_OpbL8wKwrUN"
      },
      "execution_count": 13,
      "outputs": []
    },
    {
      "cell_type": "code",
      "source": [
        "print(\"Top 200 frequent tokens\\n\")\n",
        "keys=list(frequent_words_count.keys())\n",
        "for i in range(200):\n",
        "  print(keys[i],frequent_words_count[keys[i]])"
      ],
      "metadata": {
        "colab": {
          "base_uri": "https://localhost:8080/"
        },
        "id": "V0nndXgcw_p0",
        "outputId": "f9042f39-b96a-40dc-c842-14f0d4735ff5"
      },
      "execution_count": 14,
      "outputs": [
        {
          "output_type": "stream",
          "name": "stdout",
          "text": [
            "Top 200 frequent tokens\n",
            "\n",
            "the 69971\n",
            ", 58334\n",
            ". 49346\n",
            "of 36412\n",
            "and 28853\n",
            "to 26158\n",
            "a 23195\n",
            "in 21337\n",
            "that 10594\n",
            "is 10109\n",
            "was 9815\n",
            "he 9548\n",
            "for 9489\n",
            "`` 8837\n",
            "'' 8789\n",
            "it 8760\n",
            "with 7289\n",
            "as 7253\n",
            "his 6996\n",
            "on 6741\n",
            "be 6377\n",
            "; 5566\n",
            "at 5372\n",
            "by 5306\n",
            "i 5164\n",
            "this 5145\n",
            "had 5133\n",
            "? 4693\n",
            "not 4610\n",
            "are 4394\n",
            "but 4381\n",
            "from 4370\n",
            "or 4206\n",
            "have 3942\n",
            "an 3740\n",
            "they 3620\n",
            "which 3561\n",
            "-- 3432\n",
            "one 3292\n",
            "you 3286\n",
            "were 3284\n",
            "her 3036\n",
            "all 3001\n",
            "she 2860\n",
            "there 2728\n",
            "would 2714\n",
            "their 2669\n",
            "we 2652\n",
            "him 2619\n",
            "been 2472\n",
            ") 2466\n",
            "has 2437\n",
            "( 2435\n",
            "when 2331\n",
            "who 2252\n",
            "will 2245\n",
            "more 2215\n",
            "if 2198\n",
            "no 2139\n",
            "out 2097\n",
            "so 1985\n",
            "said 1961\n",
            "what 1908\n",
            "up 1890\n",
            "its 1858\n",
            "about 1815\n",
            ": 1795\n",
            "into 1791\n",
            "than 1790\n",
            "them 1788\n",
            "can 1772\n",
            "only 1748\n",
            "other 1702\n",
            "new 1635\n",
            "some 1618\n",
            "could 1601\n",
            "time 1598\n",
            "! 1596\n",
            "these 1573\n",
            "two 1412\n",
            "may 1402\n",
            "then 1380\n",
            "do 1363\n",
            "first 1361\n",
            "any 1344\n",
            "my 1318\n",
            "now 1314\n",
            "such 1303\n",
            "like 1292\n",
            "our 1252\n",
            "over 1236\n",
            "man 1207\n",
            "me 1181\n",
            "even 1170\n",
            "most 1159\n",
            "made 1125\n",
            "also 1069\n",
            "after 1069\n",
            "did 1044\n",
            "many 1030\n",
            "before 1016\n",
            "must 1013\n",
            "af 996\n",
            "through 971\n",
            "back 966\n",
            "years 950\n",
            "where 937\n",
            "much 937\n",
            "your 923\n",
            "way 908\n",
            "well 897\n",
            "down 895\n",
            "should 888\n",
            "because 883\n",
            "each 877\n",
            "just 872\n",
            "those 850\n",
            "people 847\n",
            "mr. 844\n",
            "too 834\n",
            "how 834\n",
            "little 831\n",
            "state 807\n",
            "good 806\n",
            "very 796\n",
            "make 794\n",
            "world 787\n",
            "still 782\n",
            "see 772\n",
            "own 772\n",
            "men 763\n",
            "work 762\n",
            "long 752\n",
            "here 750\n",
            "get 749\n",
            "both 730\n",
            "between 730\n",
            "life 715\n",
            "being 712\n",
            "under 707\n",
            "never 697\n",
            "day 687\n",
            "same 686\n",
            "another 684\n",
            "know 683\n",
            "while 680\n",
            "last 676\n",
            "us 675\n",
            "might 672\n",
            "great 665\n",
            "old 661\n",
            "year 658\n",
            "off 639\n",
            "come 630\n",
            "since 628\n",
            "against 627\n",
            "go 626\n",
            "came 622\n",
            "right 613\n",
            "used 611\n",
            "take 610\n",
            "three 610\n",
            "himself 603\n",
            "states 603\n",
            "few 601\n",
            "house 591\n",
            "use 591\n",
            "during 585\n",
            "without 583\n",
            "again 577\n",
            "place 570\n",
            "american 569\n",
            "around 562\n",
            "however 552\n",
            "home 547\n",
            "small 542\n",
            "found 536\n",
            "mrs. 534\n",
            "1 527\n",
            "thought 517\n",
            "went 507\n",
            "say 504\n",
            "part 500\n",
            "once 499\n",
            "general 498\n",
            "high 497\n",
            "upon 495\n",
            "school 493\n",
            "every 491\n",
            "don't 489\n",
            "does 485\n",
            "got 482\n",
            "united 482\n",
            "left 480\n",
            "number 472\n",
            "course 465\n",
            "war 464\n",
            "until 461\n",
            "always 458\n",
            "away 456\n"
          ]
        }
      ]
    },
    {
      "cell_type": "markdown",
      "source": [
        "### Count the number of sentences"
      ],
      "metadata": {
        "id": "2n8uPjt2z8tS"
      }
    },
    {
      "cell_type": "code",
      "source": [
        "brown.sents()"
      ],
      "metadata": {
        "colab": {
          "base_uri": "https://localhost:8080/"
        },
        "id": "mlGc7u17zNBx",
        "outputId": "f2f2517d-b6b6-4993-a368-9b2668380d7c"
      },
      "execution_count": 15,
      "outputs": [
        {
          "output_type": "execute_result",
          "data": {
            "text/plain": [
              "[['The', 'Fulton', 'County', 'Grand', 'Jury', 'said', 'Friday', 'an', 'investigation', 'of', \"Atlanta's\", 'recent', 'primary', 'election', 'produced', '``', 'no', 'evidence', \"''\", 'that', 'any', 'irregularities', 'took', 'place', '.'], ['The', 'jury', 'further', 'said', 'in', 'term-end', 'presentments', 'that', 'the', 'City', 'Executive', 'Committee', ',', 'which', 'had', 'over-all', 'charge', 'of', 'the', 'election', ',', '``', 'deserves', 'the', 'praise', 'and', 'thanks', 'of', 'the', 'City', 'of', 'Atlanta', \"''\", 'for', 'the', 'manner', 'in', 'which', 'the', 'election', 'was', 'conducted', '.'], ...]"
            ]
          },
          "metadata": {},
          "execution_count": 15
        }
      ]
    },
    {
      "cell_type": "markdown",
      "source": [
        "Here each sentence is a sub array"
      ],
      "metadata": {
        "id": "gFrtFzQt0ODY"
      }
    },
    {
      "cell_type": "code",
      "source": [
        "print(\"Number of sentences:\",len(brown.sents()))"
      ],
      "metadata": {
        "colab": {
          "base_uri": "https://localhost:8080/"
        },
        "id": "aw2Zx-Sa0NKk",
        "outputId": "f4dd9200-08d0-44c2-8cae-2725590a8fb7"
      },
      "execution_count": 16,
      "outputs": [
        {
          "output_type": "stream",
          "name": "stdout",
          "text": [
            "Number of sentences: 57340\n"
          ]
        }
      ]
    },
    {
      "cell_type": "markdown",
      "source": [
        "# 2. Explore the corpora available in NLTK"
      ],
      "metadata": {
        "id": "kJWI2rXA0dp9"
      }
    },
    {
      "cell_type": "markdown",
      "source": [
        "## Inaugural Address Corpus"
      ],
      "metadata": {
        "id": "Hcrzx33R-oGw"
      }
    },
    {
      "cell_type": "code",
      "source": [
        "from nltk.corpus import inaugural\n",
        "nltk.download('inaugural')"
      ],
      "metadata": {
        "colab": {
          "base_uri": "https://localhost:8080/"
        },
        "outputId": "3b55dd64-6ccf-410f-d58c-9cca79243068",
        "id": "DhF7FQID-oHG"
      },
      "execution_count": 29,
      "outputs": [
        {
          "output_type": "stream",
          "name": "stderr",
          "text": [
            "[nltk_data] Downloading package inaugural to /root/nltk_data...\n",
            "[nltk_data]   Unzipping corpora/inaugural.zip.\n"
          ]
        },
        {
          "output_type": "execute_result",
          "data": {
            "text/plain": [
              "True"
            ]
          },
          "metadata": {},
          "execution_count": 29
        }
      ]
    },
    {
      "cell_type": "markdown",
      "source": [
        "### Explore Inaugural Address Corpus and find the size, tokens"
      ],
      "metadata": {
        "id": "UJcu3kca-oHI"
      }
    },
    {
      "cell_type": "markdown",
      "source": [
        "#### Tokens"
      ],
      "metadata": {
        "id": "KsOHibh0-oHI"
      }
    },
    {
      "cell_type": "code",
      "source": [
        "inaugural.words()"
      ],
      "metadata": {
        "colab": {
          "base_uri": "https://localhost:8080/"
        },
        "outputId": "8e189f01-6b15-4e9c-f0d5-3679253c64d9",
        "id": "s3M1f4ve-oHJ"
      },
      "execution_count": 30,
      "outputs": [
        {
          "output_type": "execute_result",
          "data": {
            "text/plain": [
              "['Fellow', '-', 'Citizens', 'of', 'the', 'Senate', ...]"
            ]
          },
          "metadata": {},
          "execution_count": 30
        }
      ]
    },
    {
      "cell_type": "markdown",
      "source": [
        "#### Size"
      ],
      "metadata": {
        "id": "LSdc7kE9-oHJ"
      }
    },
    {
      "cell_type": "code",
      "source": [
        "print(\"Size of inaugural corpus:\",len(inaugural.words()))"
      ],
      "metadata": {
        "colab": {
          "base_uri": "https://localhost:8080/"
        },
        "outputId": "b44bd8f3-c490-4c7d-d729-98719a2260ca",
        "id": "INvhIWsB-oHK"
      },
      "execution_count": 31,
      "outputs": [
        {
          "output_type": "stream",
          "name": "stdout",
          "text": [
            "Size of inaugural corpus: 152901\n"
          ]
        }
      ]
    },
    {
      "cell_type": "markdown",
      "source": [
        "### Find the size of word tokens in Inaugural Address Corpus?"
      ],
      "metadata": {
        "id": "VEIZ2Imr-oHM"
      }
    },
    {
      "cell_type": "code",
      "source": [
        "print(\"Size of word tokens in inaugural corpus:\",len(inaugural.words()))"
      ],
      "metadata": {
        "colab": {
          "base_uri": "https://localhost:8080/"
        },
        "outputId": "e295061f-1323-4025-8fe0-2a63a2035c93",
        "id": "wTtkhaGJ-oHM"
      },
      "execution_count": 32,
      "outputs": [
        {
          "output_type": "stream",
          "name": "stdout",
          "text": [
            "Size of word tokens in inaugural corpus: 152901\n"
          ]
        }
      ]
    },
    {
      "cell_type": "code",
      "source": [
        "size_of_each_tokens_in_inaugural=[]\n",
        "for i in inaugural.words():\n",
        "  size_of_each_tokens_in_inaugural.append([i,len(i)])\n",
        "size_of_each_tokens_in_inaugural[:200] # printing forst 200 tokens and there sizes"
      ],
      "metadata": {
        "colab": {
          "base_uri": "https://localhost:8080/"
        },
        "outputId": "22518381-ee52-4b20-8751-cf3ef9eeadac",
        "id": "kHZqbHv4-oHN"
      },
      "execution_count": 33,
      "outputs": [
        {
          "output_type": "execute_result",
          "data": {
            "text/plain": [
              "[['Fellow', 6],\n",
              " ['-', 1],\n",
              " ['Citizens', 8],\n",
              " ['of', 2],\n",
              " ['the', 3],\n",
              " ['Senate', 6],\n",
              " ['and', 3],\n",
              " ['of', 2],\n",
              " ['the', 3],\n",
              " ['House', 5],\n",
              " ['of', 2],\n",
              " ['Representatives', 15],\n",
              " [':', 1],\n",
              " ['Among', 5],\n",
              " ['the', 3],\n",
              " ['vicissitudes', 12],\n",
              " ['incident', 8],\n",
              " ['to', 2],\n",
              " ['life', 4],\n",
              " ['no', 2],\n",
              " ['event', 5],\n",
              " ['could', 5],\n",
              " ['have', 4],\n",
              " ['filled', 6],\n",
              " ['me', 2],\n",
              " ['with', 4],\n",
              " ['greater', 7],\n",
              " ['anxieties', 9],\n",
              " ['than', 4],\n",
              " ['that', 4],\n",
              " ['of', 2],\n",
              " ['which', 5],\n",
              " ['the', 3],\n",
              " ['notification', 12],\n",
              " ['was', 3],\n",
              " ['transmitted', 11],\n",
              " ['by', 2],\n",
              " ['your', 4],\n",
              " ['order', 5],\n",
              " [',', 1],\n",
              " ['and', 3],\n",
              " ['received', 8],\n",
              " ['on', 2],\n",
              " ['the', 3],\n",
              " ['14th', 4],\n",
              " ['day', 3],\n",
              " ['of', 2],\n",
              " ['the', 3],\n",
              " ['present', 7],\n",
              " ['month', 5],\n",
              " ['.', 1],\n",
              " ['On', 2],\n",
              " ['the', 3],\n",
              " ['one', 3],\n",
              " ['hand', 4],\n",
              " [',', 1],\n",
              " ['I', 1],\n",
              " ['was', 3],\n",
              " ['summoned', 8],\n",
              " ['by', 2],\n",
              " ['my', 2],\n",
              " ['Country', 7],\n",
              " [',', 1],\n",
              " ['whose', 5],\n",
              " ['voice', 5],\n",
              " ['I', 1],\n",
              " ['can', 3],\n",
              " ['never', 5],\n",
              " ['hear', 4],\n",
              " ['but', 3],\n",
              " ['with', 4],\n",
              " ['veneration', 10],\n",
              " ['and', 3],\n",
              " ['love', 4],\n",
              " [',', 1],\n",
              " ['from', 4],\n",
              " ['a', 1],\n",
              " ['retreat', 7],\n",
              " ['which', 5],\n",
              " ['I', 1],\n",
              " ['had', 3],\n",
              " ['chosen', 6],\n",
              " ['with', 4],\n",
              " ['the', 3],\n",
              " ['fondest', 7],\n",
              " ['predilection', 12],\n",
              " [',', 1],\n",
              " ['and', 3],\n",
              " [',', 1],\n",
              " ['in', 2],\n",
              " ['my', 2],\n",
              " ['flattering', 10],\n",
              " ['hopes', 5],\n",
              " [',', 1],\n",
              " ['with', 4],\n",
              " ['an', 2],\n",
              " ['immutable', 9],\n",
              " ['decision', 8],\n",
              " [',', 1],\n",
              " ['as', 2],\n",
              " ['the', 3],\n",
              " ['asylum', 6],\n",
              " ['of', 2],\n",
              " ['my', 2],\n",
              " ['declining', 9],\n",
              " ['years', 5],\n",
              " ['--', 2],\n",
              " ['a', 1],\n",
              " ['retreat', 7],\n",
              " ['which', 5],\n",
              " ['was', 3],\n",
              " ['rendered', 8],\n",
              " ['every', 5],\n",
              " ['day', 3],\n",
              " ['more', 4],\n",
              " ['necessary', 9],\n",
              " ['as', 2],\n",
              " ['well', 4],\n",
              " ['as', 2],\n",
              " ['more', 4],\n",
              " ['dear', 4],\n",
              " ['to', 2],\n",
              " ['me', 2],\n",
              " ['by', 2],\n",
              " ['the', 3],\n",
              " ['addition', 8],\n",
              " ['of', 2],\n",
              " ['habit', 5],\n",
              " ['to', 2],\n",
              " ['inclination', 11],\n",
              " [',', 1],\n",
              " ['and', 3],\n",
              " ['of', 2],\n",
              " ['frequent', 8],\n",
              " ['interruptions', 13],\n",
              " ['in', 2],\n",
              " ['my', 2],\n",
              " ['health', 6],\n",
              " ['to', 2],\n",
              " ['the', 3],\n",
              " ['gradual', 7],\n",
              " ['waste', 5],\n",
              " ['committed', 9],\n",
              " ['on', 2],\n",
              " ['it', 2],\n",
              " ['by', 2],\n",
              " ['time', 4],\n",
              " ['.', 1],\n",
              " ['On', 2],\n",
              " ['the', 3],\n",
              " ['other', 5],\n",
              " ['hand', 4],\n",
              " [',', 1],\n",
              " ['the', 3],\n",
              " ['magnitude', 9],\n",
              " ['and', 3],\n",
              " ['difficulty', 10],\n",
              " ['of', 2],\n",
              " ['the', 3],\n",
              " ['trust', 5],\n",
              " ['to', 2],\n",
              " ['which', 5],\n",
              " ['the', 3],\n",
              " ['voice', 5],\n",
              " ['of', 2],\n",
              " ['my', 2],\n",
              " ['country', 7],\n",
              " ['called', 6],\n",
              " ['me', 2],\n",
              " [',', 1],\n",
              " ['being', 5],\n",
              " ['sufficient', 10],\n",
              " ['to', 2],\n",
              " ['awaken', 6],\n",
              " ['in', 2],\n",
              " ['the', 3],\n",
              " ['wisest', 6],\n",
              " ['and', 3],\n",
              " ['most', 4],\n",
              " ['experienced', 11],\n",
              " ['of', 2],\n",
              " ['her', 3],\n",
              " ['citizens', 8],\n",
              " ['a', 1],\n",
              " ['distrustful', 11],\n",
              " ['scrutiny', 8],\n",
              " ['into', 4],\n",
              " ['his', 3],\n",
              " ['qualifications', 14],\n",
              " [',', 1],\n",
              " ['could', 5],\n",
              " ['not', 3],\n",
              " ['but', 3],\n",
              " ['overwhelm', 9],\n",
              " ['with', 4],\n",
              " ['despondence', 11],\n",
              " ['one', 3],\n",
              " ['who', 3],\n",
              " ['(', 1],\n",
              " ['inheriting', 10]]"
            ]
          },
          "metadata": {},
          "execution_count": 33
        }
      ]
    },
    {
      "cell_type": "markdown",
      "source": [
        "### Find the size of word types in Inaugural Address Corpus?"
      ],
      "metadata": {
        "id": "QIwmjhh8-oHN"
      }
    },
    {
      "cell_type": "code",
      "source": [
        "print(\"Size of word types in inaugural corpus:\",len(set(inaugural.words())))"
      ],
      "metadata": {
        "colab": {
          "base_uri": "https://localhost:8080/"
        },
        "outputId": "a89a6686-6b32-498f-c008-4945ff4ce6ab",
        "id": "po6jEw4s-oHO"
      },
      "execution_count": 34,
      "outputs": [
        {
          "output_type": "stream",
          "name": "stdout",
          "text": [
            "Size of word types in inaugural corpus: 10025\n"
          ]
        }
      ]
    },
    {
      "cell_type": "markdown",
      "source": [
        "### List the most frequent tokens in Inaugural Address Corpus"
      ],
      "metadata": {
        "id": "_B-NLB-j-oHO"
      }
    },
    {
      "cell_type": "code",
      "source": [
        "words_inaugural=inaugural.words()\n",
        "words_count_inaugural=nltk.FreqDist(w.lower() for w in words_inaugural)\n",
        "frequent_words_count_inaugural=dict(sorted(words_count.items(), key=lambda item: item[1],reverse=True))"
      ],
      "metadata": {
        "id": "TVNhLQAb-oHP"
      },
      "execution_count": 35,
      "outputs": []
    },
    {
      "cell_type": "code",
      "source": [
        "print(\"Top 200 frequent tokens in inaugural corpus\\n\")\n",
        "keys_inaugural=list(frequent_words_count_inaugural.keys())\n",
        "for i in range(200):\n",
        "  print(keys_inaugural[i],frequent_words_count_inaugural[keys_inaugural[i]])"
      ],
      "metadata": {
        "colab": {
          "base_uri": "https://localhost:8080/"
        },
        "outputId": "4481ce5e-1649-4e88-b828-7b230ab4cb48",
        "id": "G8ElCyqN-oHP"
      },
      "execution_count": 36,
      "outputs": [
        {
          "output_type": "stream",
          "name": "stdout",
          "text": [
            "Top 200 frequent tokens in inaugural corpus\n",
            "\n",
            "the 69971\n",
            ", 58334\n",
            ". 49346\n",
            "of 36412\n",
            "and 28853\n",
            "to 26158\n",
            "a 23195\n",
            "in 21337\n",
            "that 10594\n",
            "is 10109\n",
            "was 9815\n",
            "he 9548\n",
            "for 9489\n",
            "`` 8837\n",
            "'' 8789\n",
            "it 8760\n",
            "with 7289\n",
            "as 7253\n",
            "his 6996\n",
            "on 6741\n",
            "be 6377\n",
            "; 5566\n",
            "at 5372\n",
            "by 5306\n",
            "i 5164\n",
            "this 5145\n",
            "had 5133\n",
            "? 4693\n",
            "not 4610\n",
            "are 4394\n",
            "but 4381\n",
            "from 4370\n",
            "or 4206\n",
            "have 3942\n",
            "an 3740\n",
            "they 3620\n",
            "which 3561\n",
            "-- 3432\n",
            "one 3292\n",
            "you 3286\n",
            "were 3284\n",
            "her 3036\n",
            "all 3001\n",
            "she 2860\n",
            "there 2728\n",
            "would 2714\n",
            "their 2669\n",
            "we 2652\n",
            "him 2619\n",
            "been 2472\n",
            ") 2466\n",
            "has 2437\n",
            "( 2435\n",
            "when 2331\n",
            "who 2252\n",
            "will 2245\n",
            "more 2215\n",
            "if 2198\n",
            "no 2139\n",
            "out 2097\n",
            "so 1985\n",
            "said 1961\n",
            "what 1908\n",
            "up 1890\n",
            "its 1858\n",
            "about 1815\n",
            ": 1795\n",
            "into 1791\n",
            "than 1790\n",
            "them 1788\n",
            "can 1772\n",
            "only 1748\n",
            "other 1702\n",
            "new 1635\n",
            "some 1618\n",
            "could 1601\n",
            "time 1598\n",
            "! 1596\n",
            "these 1573\n",
            "two 1412\n",
            "may 1402\n",
            "then 1380\n",
            "do 1363\n",
            "first 1361\n",
            "any 1344\n",
            "my 1318\n",
            "now 1314\n",
            "such 1303\n",
            "like 1292\n",
            "our 1252\n",
            "over 1236\n",
            "man 1207\n",
            "me 1181\n",
            "even 1170\n",
            "most 1159\n",
            "made 1125\n",
            "also 1069\n",
            "after 1069\n",
            "did 1044\n",
            "many 1030\n",
            "before 1016\n",
            "must 1013\n",
            "af 996\n",
            "through 971\n",
            "back 966\n",
            "years 950\n",
            "where 937\n",
            "much 937\n",
            "your 923\n",
            "way 908\n",
            "well 897\n",
            "down 895\n",
            "should 888\n",
            "because 883\n",
            "each 877\n",
            "just 872\n",
            "those 850\n",
            "people 847\n",
            "mr. 844\n",
            "too 834\n",
            "how 834\n",
            "little 831\n",
            "state 807\n",
            "good 806\n",
            "very 796\n",
            "make 794\n",
            "world 787\n",
            "still 782\n",
            "see 772\n",
            "own 772\n",
            "men 763\n",
            "work 762\n",
            "long 752\n",
            "here 750\n",
            "get 749\n",
            "both 730\n",
            "between 730\n",
            "life 715\n",
            "being 712\n",
            "under 707\n",
            "never 697\n",
            "day 687\n",
            "same 686\n",
            "another 684\n",
            "know 683\n",
            "while 680\n",
            "last 676\n",
            "us 675\n",
            "might 672\n",
            "great 665\n",
            "old 661\n",
            "year 658\n",
            "off 639\n",
            "come 630\n",
            "since 628\n",
            "against 627\n",
            "go 626\n",
            "came 622\n",
            "right 613\n",
            "used 611\n",
            "take 610\n",
            "three 610\n",
            "himself 603\n",
            "states 603\n",
            "few 601\n",
            "house 591\n",
            "use 591\n",
            "during 585\n",
            "without 583\n",
            "again 577\n",
            "place 570\n",
            "american 569\n",
            "around 562\n",
            "however 552\n",
            "home 547\n",
            "small 542\n",
            "found 536\n",
            "mrs. 534\n",
            "1 527\n",
            "thought 517\n",
            "went 507\n",
            "say 504\n",
            "part 500\n",
            "once 499\n",
            "general 498\n",
            "high 497\n",
            "upon 495\n",
            "school 493\n",
            "every 491\n",
            "don't 489\n",
            "does 485\n",
            "got 482\n",
            "united 482\n",
            "left 480\n",
            "number 472\n",
            "course 465\n",
            "war 464\n",
            "until 461\n",
            "always 458\n",
            "away 456\n"
          ]
        }
      ]
    },
    {
      "cell_type": "markdown",
      "source": [
        "### Count the number of sentences in Inaugural Address Corpus"
      ],
      "metadata": {
        "id": "8tnuhzGu-oHQ"
      }
    },
    {
      "cell_type": "code",
      "source": [
        "inaugural.sents()"
      ],
      "metadata": {
        "colab": {
          "base_uri": "https://localhost:8080/"
        },
        "outputId": "1c8652be-6cf4-40e8-933f-0c22aa6fe0fe",
        "id": "vfXWcoTP-oHQ"
      },
      "execution_count": 37,
      "outputs": [
        {
          "output_type": "execute_result",
          "data": {
            "text/plain": [
              "[['Fellow', '-', 'Citizens', 'of', 'the', 'Senate', 'and', 'of', 'the', 'House', 'of', 'Representatives', ':'], ['Among', 'the', 'vicissitudes', 'incident', 'to', 'life', 'no', 'event', 'could', 'have', 'filled', 'me', 'with', 'greater', 'anxieties', 'than', 'that', 'of', 'which', 'the', 'notification', 'was', 'transmitted', 'by', 'your', 'order', ',', 'and', 'received', 'on', 'the', '14th', 'day', 'of', 'the', 'present', 'month', '.'], ...]"
            ]
          },
          "metadata": {},
          "execution_count": 37
        }
      ]
    },
    {
      "cell_type": "markdown",
      "source": [
        "Here each sentence is a sub array"
      ],
      "metadata": {
        "id": "6VQmSzEm-oHR"
      }
    },
    {
      "cell_type": "code",
      "source": [
        "print(\"Number of sentences in inaugural corpus:\",len(inaugural.sents()))"
      ],
      "metadata": {
        "colab": {
          "base_uri": "https://localhost:8080/"
        },
        "outputId": "c3cf8833-3cae-4403-b175-1faa2cc3a9ea",
        "id": "oE-Ttp7g-oHR"
      },
      "execution_count": 38,
      "outputs": [
        {
          "output_type": "stream",
          "name": "stdout",
          "text": [
            "Number of sentences in inaugural corpus: 5217\n"
          ]
        }
      ]
    },
    {
      "cell_type": "code",
      "source": [
        "python_wiki = '''\n",
        "Python is a high-level, interpreted, general-purpose programming language. Its design philosophy emphasizes code readability with the use of significant indentation.\n",
        "Python is dynamically-typed and garbage-collected. It supports multiple programming paradigms, including structured (particularly procedural), object-oriented and functional programming. It is often described as a “batteries included” language due to its comprehensive standard library.\n",
        "Guido van Rossum began working on Python in the late 1980s as a successor to the ABC programming language and first released it in 1991 as Python 0.9.0.[33] Python 2.0 was released in 2000 and introduced new features such as list comprehensions, cycle-detecting garbage collection, reference counting, and Unicode support. Python 3.0, released in 2008, was a major revision that is not completely backward-compatible with earlier versions. Python 2 was discontinued with version 2.7.18 in 2020.\n",
        "Python consistently ranks as one of the most popular programming languages.\n",
        "'''"
      ],
      "metadata": {
        "id": "Y45Kw0tY-oHR"
      },
      "execution_count": 39,
      "outputs": []
    },
    {
      "cell_type": "code",
      "source": [
        "##Tokenizing\n",
        "from nltk import word_tokenize\n",
        "token_list = word_tokenize(python_wiki)\n",
        "print(token_list[0:10])\n"
      ],
      "metadata": {
        "colab": {
          "base_uri": "https://localhost:8080/"
        },
        "id": "8OTimOLyB_vW",
        "outputId": "79abe545-d084-4ef0-9a72-cd16d391e854"
      },
      "execution_count": 42,
      "outputs": [
        {
          "output_type": "stream",
          "name": "stdout",
          "text": [
            "['Python', 'is', 'a', 'high-level', ',', 'interpreted', ',', 'general-purpose', 'programming', 'language']\n"
          ]
        }
      ]
    },
    {
      "cell_type": "code",
      "source": [
        "#Stemming\n",
        "from nltk.stem import PorterStemmer\n",
        "porter = PorterStemmer()\n",
        "porter_tokens = [porter.stem(token) for token in token_list]"
      ],
      "metadata": {
        "id": "01e9wqcXCIY4"
      },
      "execution_count": 43,
      "outputs": []
    },
    {
      "cell_type": "code",
      "source": [
        "#POS-tagging\n",
        "import nltk\n",
        "pos_tags = nltk.pos_tag(token_list)\n",
        "print(pos_tags[0:10])"
      ],
      "metadata": {
        "colab": {
          "base_uri": "https://localhost:8080/"
        },
        "id": "Nym-s9r_CYe7",
        "outputId": "5586b09b-ff23-4651-977c-cfbc96e20528"
      },
      "execution_count": 46,
      "outputs": [
        {
          "output_type": "stream",
          "name": "stdout",
          "text": [
            "[('Python', 'NNP'), ('is', 'VBZ'), ('a', 'DT'), ('high-level', 'JJ'), (',', ','), ('interpreted', 'JJ'), (',', ','), ('general-purpose', 'JJ'), ('programming', 'NN'), ('language', 'NN')]\n"
          ]
        }
      ]
    },
    {
      "cell_type": "code",
      "source": [
        ""
      ],
      "metadata": {
        "id": "tMzsbsL-CmVk"
      },
      "execution_count": null,
      "outputs": []
    }
  ]
}